{
 "metadata": {
  "language_info": {
   "codemirror_mode": {
    "name": "ipython",
    "version": 3
   },
   "file_extension": ".py",
   "mimetype": "text/x-python",
   "name": "python",
   "nbconvert_exporter": "python",
   "pygments_lexer": "ipython3",
   "version": "3.8.0-final"
  },
  "orig_nbformat": 2,
  "kernelspec": {
   "name": "python3",
   "display_name": "Python 3.8.0 64-bit ('carbon-chain-venv')",
   "metadata": {
    "interpreter": {
     "hash": "95b268432c7beb3379ebc1b62794d335d3bf6023570772e9bdab971b4dde7112"
    }
   }
  }
 },
 "nbformat": 4,
 "nbformat_minor": 2,
 "cells": [
  {
   "cell_type": "code",
   "execution_count": 1,
   "metadata": {},
   "outputs": [],
   "source": [
    "import pandas as pd "
   ]
  },
  {
   "cell_type": "code",
   "execution_count": 26,
   "metadata": {},
   "outputs": [
    {
     "output_type": "stream",
     "name": "stderr",
     "text": [
      "/Users/liam/Documents/CarbonChain/carbon-chain-venv/lib/python3.8/site-packages/openpyxl/styles/stylesheet.py:226: UserWarning: Workbook contains no default style, apply openpyxl's default\n",
      "  warn(\"Workbook contains no default style, apply openpyxl's default\")\n",
      "/Users/liam/Documents/CarbonChain/carbon-chain-venv/lib/python3.8/site-packages/openpyxl/styles/stylesheet.py:226: UserWarning: Workbook contains no default style, apply openpyxl's default\n",
      "  warn(\"Workbook contains no default style, apply openpyxl's default\")\n",
      "/Users/liam/Documents/CarbonChain/carbon-chain-venv/lib/python3.8/site-packages/openpyxl/styles/stylesheet.py:226: UserWarning: Workbook contains no default style, apply openpyxl's default\n",
      "  warn(\"Workbook contains no default style, apply openpyxl's default\")\n",
      "/Users/liam/Documents/CarbonChain/carbon-chain-venv/lib/python3.8/site-packages/openpyxl/styles/stylesheet.py:226: UserWarning: Workbook contains no default style, apply openpyxl's default\n",
      "  warn(\"Workbook contains no default style, apply openpyxl's default\")\n"
     ]
    }
   ],
   "source": [
    "excel_2018 = pd.read_excel(\"./2018-v268-06102022-EU MRV Publication of information.xlsx\", header=2)#, nrows=100)\n",
    "excel_2019 = pd.read_excel(\"./2019-v211-07102022-EU MRV Publication of information.xlsx\", header=2)#, nrows=100)\n",
    "excel_2020 = pd.read_excel(\"./2020-v183-22022023-EU MRV Publication of information.xlsx\", header=2)#, nrows=100)\n",
    "excel_2021 = pd.read_excel(\"./2021-v139-25032023-EU MRV Publication of information.xlsx\", header=2)#, nrows=100)"
   ]
  },
  {
   "cell_type": "code",
   "execution_count": 27,
   "metadata": {},
   "outputs": [],
   "source": [
    "# Add year column\n",
    "excel_2018['year'] = pd.Series(['2018' for i in range(len(excel_2018))])\n",
    "\n",
    "excel_2019['year'] = pd.Series(['2019' for i in range(len(excel_2019))])\n",
    "\n",
    "excel_2020['year'] = pd.Series(['2020' for i in range(len(excel_2020))])\n",
    "\n",
    "excel_2021['year'] = pd.Series(['2021' for i in range(len(excel_2021))])"
   ]
  },
  {
   "cell_type": "code",
   "execution_count": 28,
   "metadata": {},
   "outputs": [
    {
     "output_type": "stream",
     "name": "stdout",
     "text": [
      "60\n"
     ]
    }
   ],
   "source": [
    "# Which columns are't consistent between years\n",
    "set_2018 = set(excel_2018.columns.tolist())\n",
    "set_2019 = set(excel_2019.columns.tolist())\n",
    "set_2020 = set(excel_2020.columns.tolist())\n",
    "set_2021 = set(excel_2021.columns.tolist())\n",
    "columns_union = set.union(set_2018, set_2019, set_2020, set_2021)\n",
    "columns_intersection = set.intersection(set_2018, set_2019, set_2020, set_2021)\n",
    "print(len(columns_intersection))"
   ]
  },
  {
   "cell_type": "code",
   "execution_count": 29,
   "metadata": {},
   "outputs": [
    {
     "output_type": "execute_result",
     "data": {
      "text/plain": [
       "       IMO Number                Name         Ship type  Reporting Period  \\\n",
       "0         5383304             ASTORIA    Passenger ship              2018   \n",
       "1         6417097          MARCO POLO    Passenger ship              2018   \n",
       "2         6511128          RED STAR 1       Ro-pax ship              2018   \n",
       "3         6602898       OCEAN MAJESTY    Passenger ship              2018   \n",
       "4         6703343            EQUALITY  Other ship types              2018   \n",
       "...           ...                 ...               ...               ...   \n",
       "12229     9917646  CLEAROCEAN MERIBEL   Chemical tanker              2021   \n",
       "12230     9917658   CLEAROCEAN MILANO   Chemical tanker              2021   \n",
       "12231     9919620            OLYMPIOS   Chemical tanker              2021   \n",
       "12232     9921855         GCL PARADIP      Bulk carrier              2021   \n",
       "12233     9924912            GC BERYL   Chemical tanker              2021   \n",
       "\n",
       "        Technical efficiency Port of Registry Home Port Ice Class  \\\n",
       "0             Not Applicable              NaN       NaN       NaN   \n",
       "1             Not Applicable              NaN       NaN        IC   \n",
       "2      EIV (45.57 gCO₂/t·nm)              NaN       NaN       NaN   \n",
       "3      EIV (31.73 gCO₂/t·nm)          Madeira       NaN       NaN   \n",
       "4             Not Applicable           Beirut       NaN       NaN   \n",
       "...                      ...              ...       ...       ...   \n",
       "12229  EEDI (4.04 gCO₂/t·nm)           Manila    Manila       NaN   \n",
       "12230  EEDI (4.04 gCO₂/t·nm)           MANILA    MANILA       NaN   \n",
       "12231  EEDI (4.05 gCO₂/t·nm)         MONROVIA       NaN       NaN   \n",
       "12232  EEDI (3.19 gCO₂/t·nm)           PANAMA       NaN       NaN   \n",
       "12233  EEDI (6.53 gCO₂/t·nm)         Hongkong  Hongkong       NaN   \n",
       "\n",
       "      DoC issue date DoC expiry date  ...  \\\n",
       "0         05/02/2019      30/06/2020  ...   \n",
       "1         05/02/2019      30/06/2020  ...   \n",
       "2         30/04/2019      30/06/2020  ...   \n",
       "3         06/05/2019      30/06/2020  ...   \n",
       "4         30/06/2019      30/06/2020  ...   \n",
       "...              ...             ...  ...   \n",
       "12229     05/04/2022      30/06/2023  ...   \n",
       "12230     30/03/2022      30/06/2023  ...   \n",
       "12231     17/04/2022      30/06/2023  ...   \n",
       "12232     18/02/2022      30/06/2023  ...   \n",
       "12233     28/04/2022      30/06/2023  ...   \n",
       "\n",
       "      Fuel consumption per transport work (freight) on laden voyages [g / m tonnes · n miles]  \\\n",
       "0                                                    NaN                                        \n",
       "1                                                    NaN                                        \n",
       "2                                                    NaN                                        \n",
       "3                                                    NaN                                        \n",
       "4                                                    NaN                                        \n",
       "...                                                  ...                                        \n",
       "12229                                                NaN                                        \n",
       "12230                                                NaN                                        \n",
       "12231                                                NaN                                        \n",
       "12232                                                NaN                                        \n",
       "12233                                                NaN                                        \n",
       "\n",
       "      CO₂ emissions per distance on laden voyages [kg CO₂ / n mile]  \\\n",
       "0                                                    NaN              \n",
       "1                                                    NaN              \n",
       "2                                                    NaN              \n",
       "3                                                    NaN              \n",
       "4                                                    NaN              \n",
       "...                                                  ...              \n",
       "12229                                             263.09              \n",
       "12230                                             371.61              \n",
       "12231                                                NaN              \n",
       "12232                                                NaN              \n",
       "12233                                                NaN              \n",
       "\n",
       "      CO₂ emissions per transport work (mass) on laden voyages [g CO₂ / m tonnes · n miles]  \\\n",
       "0                                                    NaN                                      \n",
       "1                                                    NaN                                      \n",
       "2                                                    NaN                                      \n",
       "3                                                    NaN                                      \n",
       "4                                                    NaN                                      \n",
       "...                                                  ...                                      \n",
       "12229                                              10.87                                      \n",
       "12230                                              17.15                                      \n",
       "12231                                                NaN                                      \n",
       "12232                                                NaN                                      \n",
       "12233                                                NaN                                      \n",
       "\n",
       "      CO₂ emissions per transport work (volume) on laden voyages [g CO₂ / m³ · n miles]  \\\n",
       "0                                                    NaN                                  \n",
       "1                                                    NaN                                  \n",
       "2                                                    NaN                                  \n",
       "3                                                    NaN                                  \n",
       "4                                                    NaN                                  \n",
       "...                                                  ...                                  \n",
       "12229                                                NaN                                  \n",
       "12230                                                NaN                                  \n",
       "12231                                                NaN                                  \n",
       "12232                                                NaN                                  \n",
       "12233                                                NaN                                  \n",
       "\n",
       "      CO₂ emissions per transport work (dwt) on laden voyages [g CO₂ / dwt carried · n miles]  \\\n",
       "0                                                    NaN                                        \n",
       "1                                                    NaN                                        \n",
       "2                                                    NaN                                        \n",
       "3                                                    NaN                                        \n",
       "4                                                    NaN                                        \n",
       "...                                                  ...                                        \n",
       "12229                                                NaN                                        \n",
       "12230                                                NaN                                        \n",
       "12231                                                NaN                                        \n",
       "12232                                                NaN                                        \n",
       "12233                                                NaN                                        \n",
       "\n",
       "      CO₂ emissions per transport work (pax) on laden voyages [g CO₂ / pax · n miles]  \\\n",
       "0                                                    NaN                                \n",
       "1                                                    NaN                                \n",
       "2                                                    NaN                                \n",
       "3                                                    NaN                                \n",
       "4                                                    NaN                                \n",
       "...                                                  ...                                \n",
       "12229                                                NaN                                \n",
       "12230                                                NaN                                \n",
       "12231                                                NaN                                \n",
       "12232                                                NaN                                \n",
       "12233                                                NaN                                \n",
       "\n",
       "      CO₂ emissions per transport work (freight) on laden voyages [g CO₂ / m tonnes · n miles]  \\\n",
       "0                                                    NaN                                         \n",
       "1                                                    NaN                                         \n",
       "2                                                    NaN                                         \n",
       "3                                                    NaN                                         \n",
       "4                                                    NaN                                         \n",
       "...                                                  ...                                         \n",
       "12229                                                NaN                                         \n",
       "12230                                                NaN                                         \n",
       "12231                                                NaN                                         \n",
       "12232                                                NaN                                         \n",
       "12233                                                NaN                                         \n",
       "\n",
       "      Additional information to facilitate the understanding of the reported average operational energy efficiency indicators  \\\n",
       "0                                                    NaN                                                                        \n",
       "1                                                    NaN                                                                        \n",
       "2                                                    NaN                                                                        \n",
       "3                                                    NaN                                                                        \n",
       "4                                                    NaN                                                                        \n",
       "...                                                  ...                                                                        \n",
       "12229                                                NaN                                                                        \n",
       "12230                                                NaN                                                                        \n",
       "12231                                                NaN                                                                        \n",
       "12232                                                NaN                                                                        \n",
       "12233                                                NaN                                                                        \n",
       "\n",
       "      Average density of the cargo transported [m tonnes / m³]  year  \n",
       "0                                                    NaN        2018  \n",
       "1                                                    NaN        2018  \n",
       "2                                                    NaN        2018  \n",
       "3                                                    NaN        2018  \n",
       "4                                                    NaN        2018  \n",
       "...                                                  ...         ...  \n",
       "12229                                                NaN        2021  \n",
       "12230                                                NaN        2021  \n",
       "12231                                                NaN        2021  \n",
       "12232                                                NaN        2021  \n",
       "12233                                                NaN        2021  \n",
       "\n",
       "[48931 rows x 60 columns]"
      ],
      "text/html": "<div>\n<style scoped>\n    .dataframe tbody tr th:only-of-type {\n        vertical-align: middle;\n    }\n\n    .dataframe tbody tr th {\n        vertical-align: top;\n    }\n\n    .dataframe thead th {\n        text-align: right;\n    }\n</style>\n<table border=\"1\" class=\"dataframe\">\n  <thead>\n    <tr style=\"text-align: right;\">\n      <th></th>\n      <th>IMO Number</th>\n      <th>Name</th>\n      <th>Ship type</th>\n      <th>Reporting Period</th>\n      <th>Technical efficiency</th>\n      <th>Port of Registry</th>\n      <th>Home Port</th>\n      <th>Ice Class</th>\n      <th>DoC issue date</th>\n      <th>DoC expiry date</th>\n      <th>...</th>\n      <th>Fuel consumption per transport work (freight) on laden voyages [g / m tonnes · n miles]</th>\n      <th>CO₂ emissions per distance on laden voyages [kg CO₂ / n mile]</th>\n      <th>CO₂ emissions per transport work (mass) on laden voyages [g CO₂ / m tonnes · n miles]</th>\n      <th>CO₂ emissions per transport work (volume) on laden voyages [g CO₂ / m³ · n miles]</th>\n      <th>CO₂ emissions per transport work (dwt) on laden voyages [g CO₂ / dwt carried · n miles]</th>\n      <th>CO₂ emissions per transport work (pax) on laden voyages [g CO₂ / pax · n miles]</th>\n      <th>CO₂ emissions per transport work (freight) on laden voyages [g CO₂ / m tonnes · n miles]</th>\n      <th>Additional information to facilitate the understanding of the reported average operational energy efficiency indicators</th>\n      <th>Average density of the cargo transported [m tonnes / m³]</th>\n      <th>year</th>\n    </tr>\n  </thead>\n  <tbody>\n    <tr>\n      <th>0</th>\n      <td>5383304</td>\n      <td>ASTORIA</td>\n      <td>Passenger ship</td>\n      <td>2018</td>\n      <td>Not Applicable</td>\n      <td>NaN</td>\n      <td>NaN</td>\n      <td>NaN</td>\n      <td>05/02/2019</td>\n      <td>30/06/2020</td>\n      <td>...</td>\n      <td>NaN</td>\n      <td>NaN</td>\n      <td>NaN</td>\n      <td>NaN</td>\n      <td>NaN</td>\n      <td>NaN</td>\n      <td>NaN</td>\n      <td>NaN</td>\n      <td>NaN</td>\n      <td>2018</td>\n    </tr>\n    <tr>\n      <th>1</th>\n      <td>6417097</td>\n      <td>MARCO POLO</td>\n      <td>Passenger ship</td>\n      <td>2018</td>\n      <td>Not Applicable</td>\n      <td>NaN</td>\n      <td>NaN</td>\n      <td>IC</td>\n      <td>05/02/2019</td>\n      <td>30/06/2020</td>\n      <td>...</td>\n      <td>NaN</td>\n      <td>NaN</td>\n      <td>NaN</td>\n      <td>NaN</td>\n      <td>NaN</td>\n      <td>NaN</td>\n      <td>NaN</td>\n      <td>NaN</td>\n      <td>NaN</td>\n      <td>2018</td>\n    </tr>\n    <tr>\n      <th>2</th>\n      <td>6511128</td>\n      <td>RED STAR 1</td>\n      <td>Ro-pax ship</td>\n      <td>2018</td>\n      <td>EIV (45.57 gCO₂/t·nm)</td>\n      <td>NaN</td>\n      <td>NaN</td>\n      <td>NaN</td>\n      <td>30/04/2019</td>\n      <td>30/06/2020</td>\n      <td>...</td>\n      <td>NaN</td>\n      <td>NaN</td>\n      <td>NaN</td>\n      <td>NaN</td>\n      <td>NaN</td>\n      <td>NaN</td>\n      <td>NaN</td>\n      <td>NaN</td>\n      <td>NaN</td>\n      <td>2018</td>\n    </tr>\n    <tr>\n      <th>3</th>\n      <td>6602898</td>\n      <td>OCEAN MAJESTY</td>\n      <td>Passenger ship</td>\n      <td>2018</td>\n      <td>EIV (31.73 gCO₂/t·nm)</td>\n      <td>Madeira</td>\n      <td>NaN</td>\n      <td>NaN</td>\n      <td>06/05/2019</td>\n      <td>30/06/2020</td>\n      <td>...</td>\n      <td>NaN</td>\n      <td>NaN</td>\n      <td>NaN</td>\n      <td>NaN</td>\n      <td>NaN</td>\n      <td>NaN</td>\n      <td>NaN</td>\n      <td>NaN</td>\n      <td>NaN</td>\n      <td>2018</td>\n    </tr>\n    <tr>\n      <th>4</th>\n      <td>6703343</td>\n      <td>EQUALITY</td>\n      <td>Other ship types</td>\n      <td>2018</td>\n      <td>Not Applicable</td>\n      <td>Beirut</td>\n      <td>NaN</td>\n      <td>NaN</td>\n      <td>30/06/2019</td>\n      <td>30/06/2020</td>\n      <td>...</td>\n      <td>NaN</td>\n      <td>NaN</td>\n      <td>NaN</td>\n      <td>NaN</td>\n      <td>NaN</td>\n      <td>NaN</td>\n      <td>NaN</td>\n      <td>NaN</td>\n      <td>NaN</td>\n      <td>2018</td>\n    </tr>\n    <tr>\n      <th>...</th>\n      <td>...</td>\n      <td>...</td>\n      <td>...</td>\n      <td>...</td>\n      <td>...</td>\n      <td>...</td>\n      <td>...</td>\n      <td>...</td>\n      <td>...</td>\n      <td>...</td>\n      <td>...</td>\n      <td>...</td>\n      <td>...</td>\n      <td>...</td>\n      <td>...</td>\n      <td>...</td>\n      <td>...</td>\n      <td>...</td>\n      <td>...</td>\n      <td>...</td>\n      <td>...</td>\n    </tr>\n    <tr>\n      <th>12229</th>\n      <td>9917646</td>\n      <td>CLEAROCEAN MERIBEL</td>\n      <td>Chemical tanker</td>\n      <td>2021</td>\n      <td>EEDI (4.04 gCO₂/t·nm)</td>\n      <td>Manila</td>\n      <td>Manila</td>\n      <td>NaN</td>\n      <td>05/04/2022</td>\n      <td>30/06/2023</td>\n      <td>...</td>\n      <td>NaN</td>\n      <td>263.09</td>\n      <td>10.87</td>\n      <td>NaN</td>\n      <td>NaN</td>\n      <td>NaN</td>\n      <td>NaN</td>\n      <td>NaN</td>\n      <td>NaN</td>\n      <td>2021</td>\n    </tr>\n    <tr>\n      <th>12230</th>\n      <td>9917658</td>\n      <td>CLEAROCEAN MILANO</td>\n      <td>Chemical tanker</td>\n      <td>2021</td>\n      <td>EEDI (4.04 gCO₂/t·nm)</td>\n      <td>MANILA</td>\n      <td>MANILA</td>\n      <td>NaN</td>\n      <td>30/03/2022</td>\n      <td>30/06/2023</td>\n      <td>...</td>\n      <td>NaN</td>\n      <td>371.61</td>\n      <td>17.15</td>\n      <td>NaN</td>\n      <td>NaN</td>\n      <td>NaN</td>\n      <td>NaN</td>\n      <td>NaN</td>\n      <td>NaN</td>\n      <td>2021</td>\n    </tr>\n    <tr>\n      <th>12231</th>\n      <td>9919620</td>\n      <td>OLYMPIOS</td>\n      <td>Chemical tanker</td>\n      <td>2021</td>\n      <td>EEDI (4.05 gCO₂/t·nm)</td>\n      <td>MONROVIA</td>\n      <td>NaN</td>\n      <td>NaN</td>\n      <td>17/04/2022</td>\n      <td>30/06/2023</td>\n      <td>...</td>\n      <td>NaN</td>\n      <td>NaN</td>\n      <td>NaN</td>\n      <td>NaN</td>\n      <td>NaN</td>\n      <td>NaN</td>\n      <td>NaN</td>\n      <td>NaN</td>\n      <td>NaN</td>\n      <td>2021</td>\n    </tr>\n    <tr>\n      <th>12232</th>\n      <td>9921855</td>\n      <td>GCL PARADIP</td>\n      <td>Bulk carrier</td>\n      <td>2021</td>\n      <td>EEDI (3.19 gCO₂/t·nm)</td>\n      <td>PANAMA</td>\n      <td>NaN</td>\n      <td>NaN</td>\n      <td>18/02/2022</td>\n      <td>30/06/2023</td>\n      <td>...</td>\n      <td>NaN</td>\n      <td>NaN</td>\n      <td>NaN</td>\n      <td>NaN</td>\n      <td>NaN</td>\n      <td>NaN</td>\n      <td>NaN</td>\n      <td>NaN</td>\n      <td>NaN</td>\n      <td>2021</td>\n    </tr>\n    <tr>\n      <th>12233</th>\n      <td>9924912</td>\n      <td>GC BERYL</td>\n      <td>Chemical tanker</td>\n      <td>2021</td>\n      <td>EEDI (6.53 gCO₂/t·nm)</td>\n      <td>Hongkong</td>\n      <td>Hongkong</td>\n      <td>NaN</td>\n      <td>28/04/2022</td>\n      <td>30/06/2023</td>\n      <td>...</td>\n      <td>NaN</td>\n      <td>NaN</td>\n      <td>NaN</td>\n      <td>NaN</td>\n      <td>NaN</td>\n      <td>NaN</td>\n      <td>NaN</td>\n      <td>NaN</td>\n      <td>NaN</td>\n      <td>2021</td>\n    </tr>\n  </tbody>\n</table>\n<p>48931 rows × 60 columns</p>\n</div>"
     },
     "metadata": {},
     "execution_count": 29
    }
   ],
   "source": [
    "df = pd.concat([excel_2018, excel_2019, excel_2020, excel_2021], join='inner', axis=0)\n",
    "df"
   ]
  },
  {
   "cell_type": "code",
   "execution_count": 30,
   "metadata": {},
   "outputs": [],
   "source": [
    "# Save to CSV\n",
    "df.to_csv('./EU_MRV_all_data.csv')"
   ]
  },
  {
   "cell_type": "code",
   "execution_count": null,
   "metadata": {},
   "outputs": [],
   "source": []
  }
 ]
}