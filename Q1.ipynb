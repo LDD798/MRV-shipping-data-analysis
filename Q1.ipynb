{
 "metadata": {
  "language_info": {
   "codemirror_mode": {
    "name": "ipython",
    "version": 3
   },
   "file_extension": ".py",
   "mimetype": "text/x-python",
   "name": "python",
   "nbconvert_exporter": "python",
   "pygments_lexer": "ipython3",
   "version": "3.8.0-final"
  },
  "orig_nbformat": 2,
  "kernelspec": {
   "name": "python3",
   "display_name": "Python 3.8.0 64-bit ('carbon-chain-venv')",
   "metadata": {
    "interpreter": {
     "hash": "95b268432c7beb3379ebc1b62794d335d3bf6023570772e9bdab971b4dde7112"
    }
   }
  }
 },
 "nbformat": 4,
 "nbformat_minor": 2,
 "cells": [
  {
   "source": [
    "# Q1"
   ],
   "cell_type": "markdown",
   "metadata": {}
  },
  {
   "cell_type": "code",
   "execution_count": 2,
   "metadata": {},
   "outputs": [],
   "source": [
    "import pandas as pd "
   ]
  },
  {
   "cell_type": "code",
   "execution_count": 3,
   "metadata": {},
   "outputs": [
    {
     "output_type": "stream",
     "name": "stderr",
     "text": [
      "/var/folders/ht/6ykym8px4379cfrmgkkjl12m0000gn/T/ipykernel_33904/544327317.py:1: DtypeWarning: Columns (48,54) have mixed types. Specify dtype option on import or set low_memory=False.\n  df_sample = pd.read_csv('./EU_MRV_all_data.csv', index_col=0)\n"
     ]
    },
    {
     "output_type": "execute_result",
     "data": {
      "text/plain": [
       "         IMO Number  Reporting Period  Total fuel consumption [m tonnes]  \\\n",
       "count  4.893100e+04      48931.000000                       48931.000000   \n",
       "mean   9.452781e+06       2019.495759                        3580.931969   \n",
       "std    2.876293e+05          1.118485                        4537.639330   \n",
       "min    5.383304e+06       2018.000000                           0.000000   \n",
       "25%    9.307748e+06       2018.000000                        1045.625000   \n",
       "50%    9.451616e+06       2019.000000                        2059.520000   \n",
       "75%    9.662351e+06       2021.000000                        4081.825000   \n",
       "max    9.924912e+06       2021.000000                       98465.200000   \n",
       "\n",
       "       Fuel consumptions assigned to On laden [m tonnes]  \\\n",
       "count                                        5848.000000   \n",
       "mean                                         3070.831700   \n",
       "std                                          4380.537576   \n",
       "min                                             0.000000   \n",
       "25%                                           751.355000   \n",
       "50%                                          1451.575000   \n",
       "75%                                          2986.697500   \n",
       "max                                         44715.460000   \n",
       "\n",
       "       Total CO₂ emissions [m tonnes]  \\\n",
       "count                    48931.000000   \n",
       "mean                     11174.902336   \n",
       "std                      14050.661684   \n",
       "min                          0.000000   \n",
       "25%                       3281.320000   \n",
       "50%                       6469.520000   \n",
       "75%                      12816.335000   \n",
       "max                     315478.510000   \n",
       "\n",
       "       CO₂ emissions from all voyages between ports under a MS jurisdiction [m tonnes]  \\\n",
       "count                                       4.893100e+04                                 \n",
       "mean                                        3.412090e+03                                 \n",
       "std                                         1.167544e+04                                 \n",
       "min                                         0.000000e+00                                 \n",
       "25%                                         0.000000e+00                                 \n",
       "50%                                         5.624600e+02                                 \n",
       "75%                                         2.477095e+03                                 \n",
       "max                                         1.672576e+06                                 \n",
       "\n",
       "       CO₂ emissions from all voyages which departed from ports under a MS jurisdiction [m tonnes]  \\\n",
       "count                                       48931.000000                                             \n",
       "mean                                         3399.895293                                             \n",
       "std                                          5084.736387                                             \n",
       "min                                             0.000000                                             \n",
       "25%                                           694.020000                                             \n",
       "50%                                          1842.450000                                             \n",
       "75%                                          3826.560000                                             \n",
       "max                                        170643.000000                                             \n",
       "\n",
       "       CO₂ emissions from all voyages to ports under a MS jurisdiction [m tonnes]  \\\n",
       "count                                       48931.000000                            \n",
       "mean                                         3717.043149                            \n",
       "std                                          5639.932897                            \n",
       "min                                             0.000000                            \n",
       "25%                                           856.270000                            \n",
       "50%                                          2109.490000                            \n",
       "75%                                          4195.530000                            \n",
       "max                                        359534.000000                            \n",
       "\n",
       "       CO₂ emissions which occurred within ports under a MS jurisdiction at berth [m tonnes]  \\\n",
       "count                                       4.893100e+04                                       \n",
       "mean                                        7.354757e+02                                       \n",
       "std                                         5.894722e+03                                       \n",
       "min                                         0.000000e+00                                       \n",
       "25%                                         1.204800e+02                                       \n",
       "50%                                         3.144900e+02                                       \n",
       "75%                                         8.304150e+02                                       \n",
       "max                                         1.260629e+06                                       \n",
       "\n",
       "       CO₂ emissions assigned to Passenger transport [m tonnes]  \\\n",
       "count                                        1538.000000          \n",
       "mean                                        17167.368648          \n",
       "std                                         18773.493549          \n",
       "min                                             0.000000          \n",
       "25%                                          3641.102500          \n",
       "50%                                         10097.450000          \n",
       "75%                                         24173.290000          \n",
       "max                                        105415.090000          \n",
       "\n",
       "       CO₂ emissions assigned to Freight transport [m tonnes]  \\\n",
       "count                                        1518.000000        \n",
       "mean                                        20733.019414        \n",
       "std                                         19693.840039        \n",
       "min                                             0.000000        \n",
       "25%                                          5935.450000        \n",
       "50%                                         15495.990000        \n",
       "75%                                         29850.790000        \n",
       "max                                        127026.570000        \n",
       "\n",
       "       CO₂ emissions assigned to On laden [m tonnes]  Through ice [n miles]  \\\n",
       "count                                    5851.000000            2853.000000   \n",
       "mean                                     9581.946178              28.256723   \n",
       "std                                     13629.039487             423.709291   \n",
       "min                                         0.000000               0.000000   \n",
       "25%                                      2356.400000               0.000000   \n",
       "50%                                      4541.600000               0.000000   \n",
       "75%                                      9317.825000               0.000000   \n",
       "max                                    139545.340000           11103.300000   \n",
       "\n",
       "       Total time spent at sea through ice [hours]  \\\n",
       "count                                  2853.000000   \n",
       "mean                                      3.208065   \n",
       "std                                      46.342100   \n",
       "min                                       0.000000   \n",
       "25%                                       0.000000   \n",
       "50%                                       0.000000   \n",
       "75%                                       0.000000   \n",
       "max                                    1166.350000   \n",
       "\n",
       "       Fuel consumption per transport work (pax) on laden voyages [g / pax · n miles]  \\\n",
       "count                                          17.000000                                \n",
       "mean                                          330.198235                                \n",
       "std                                           307.402534                                \n",
       "min                                            92.540000                                \n",
       "25%                                           121.950000                                \n",
       "50%                                           134.710000                                \n",
       "75%                                           601.960000                                \n",
       "max                                           949.130000                                \n",
       "\n",
       "       Fuel consumption per transport work (freight) on laden voyages [g / m tonnes · n miles]  \\\n",
       "count                                                0.0                                         \n",
       "mean                                                 NaN                                         \n",
       "std                                                  NaN                                         \n",
       "min                                                  NaN                                         \n",
       "25%                                                  NaN                                         \n",
       "50%                                                  NaN                                         \n",
       "75%                                                  NaN                                         \n",
       "max                                                  NaN                                         \n",
       "\n",
       "       CO₂ emissions per transport work (pax) on laden voyages [g CO₂ / pax · n miles]  \\\n",
       "count                                          17.000000                                 \n",
       "mean                                         1052.355882                                 \n",
       "std                                           987.800076                                 \n",
       "min                                           288.380000                                 \n",
       "25%                                           384.980000                                 \n",
       "50%                                           424.640000                                 \n",
       "75%                                          1929.880000                                 \n",
       "max                                          3042.920000                                 \n",
       "\n",
       "       CO₂ emissions per transport work (freight) on laden voyages [g CO₂ / m tonnes · n miles]  \\\n",
       "count                                                0.0                                          \n",
       "mean                                                 NaN                                          \n",
       "std                                                  NaN                                          \n",
       "min                                                  NaN                                          \n",
       "25%                                                  NaN                                          \n",
       "50%                                                  NaN                                          \n",
       "75%                                                  NaN                                          \n",
       "max                                                  NaN                                          \n",
       "\n",
       "       Average density of the cargo transported [m tonnes / m³]          year  \n",
       "count                                            5.00000         48931.000000  \n",
       "mean                                             0.35000          2019.495759  \n",
       "std                                              0.47927             1.118485  \n",
       "min                                              0.00000          2018.000000  \n",
       "25%                                              0.00000          2018.000000  \n",
       "50%                                              0.00000          2019.000000  \n",
       "75%                                              0.87000          2021.000000  \n",
       "max                                              0.88000          2021.000000  "
      ],
      "text/html": "<div>\n<style scoped>\n    .dataframe tbody tr th:only-of-type {\n        vertical-align: middle;\n    }\n\n    .dataframe tbody tr th {\n        vertical-align: top;\n    }\n\n    .dataframe thead th {\n        text-align: right;\n    }\n</style>\n<table border=\"1\" class=\"dataframe\">\n  <thead>\n    <tr style=\"text-align: right;\">\n      <th></th>\n      <th>IMO Number</th>\n      <th>Reporting Period</th>\n      <th>Total fuel consumption [m tonnes]</th>\n      <th>Fuel consumptions assigned to On laden [m tonnes]</th>\n      <th>Total CO₂ emissions [m tonnes]</th>\n      <th>CO₂ emissions from all voyages between ports under a MS jurisdiction [m tonnes]</th>\n      <th>CO₂ emissions from all voyages which departed from ports under a MS jurisdiction [m tonnes]</th>\n      <th>CO₂ emissions from all voyages to ports under a MS jurisdiction [m tonnes]</th>\n      <th>CO₂ emissions which occurred within ports under a MS jurisdiction at berth [m tonnes]</th>\n      <th>CO₂ emissions assigned to Passenger transport [m tonnes]</th>\n      <th>CO₂ emissions assigned to Freight transport [m tonnes]</th>\n      <th>CO₂ emissions assigned to On laden [m tonnes]</th>\n      <th>Through ice [n miles]</th>\n      <th>Total time spent at sea through ice [hours]</th>\n      <th>Fuel consumption per transport work (pax) on laden voyages [g / pax · n miles]</th>\n      <th>Fuel consumption per transport work (freight) on laden voyages [g / m tonnes · n miles]</th>\n      <th>CO₂ emissions per transport work (pax) on laden voyages [g CO₂ / pax · n miles]</th>\n      <th>CO₂ emissions per transport work (freight) on laden voyages [g CO₂ / m tonnes · n miles]</th>\n      <th>Average density of the cargo transported [m tonnes / m³]</th>\n      <th>year</th>\n    </tr>\n  </thead>\n  <tbody>\n    <tr>\n      <th>count</th>\n      <td>4.893100e+04</td>\n      <td>48931.000000</td>\n      <td>48931.000000</td>\n      <td>5848.000000</td>\n      <td>48931.000000</td>\n      <td>4.893100e+04</td>\n      <td>48931.000000</td>\n      <td>48931.000000</td>\n      <td>4.893100e+04</td>\n      <td>1538.000000</td>\n      <td>1518.000000</td>\n      <td>5851.000000</td>\n      <td>2853.000000</td>\n      <td>2853.000000</td>\n      <td>17.000000</td>\n      <td>0.0</td>\n      <td>17.000000</td>\n      <td>0.0</td>\n      <td>5.00000</td>\n      <td>48931.000000</td>\n    </tr>\n    <tr>\n      <th>mean</th>\n      <td>9.452781e+06</td>\n      <td>2019.495759</td>\n      <td>3580.931969</td>\n      <td>3070.831700</td>\n      <td>11174.902336</td>\n      <td>3.412090e+03</td>\n      <td>3399.895293</td>\n      <td>3717.043149</td>\n      <td>7.354757e+02</td>\n      <td>17167.368648</td>\n      <td>20733.019414</td>\n      <td>9581.946178</td>\n      <td>28.256723</td>\n      <td>3.208065</td>\n      <td>330.198235</td>\n      <td>NaN</td>\n      <td>1052.355882</td>\n      <td>NaN</td>\n      <td>0.35000</td>\n      <td>2019.495759</td>\n    </tr>\n    <tr>\n      <th>std</th>\n      <td>2.876293e+05</td>\n      <td>1.118485</td>\n      <td>4537.639330</td>\n      <td>4380.537576</td>\n      <td>14050.661684</td>\n      <td>1.167544e+04</td>\n      <td>5084.736387</td>\n      <td>5639.932897</td>\n      <td>5.894722e+03</td>\n      <td>18773.493549</td>\n      <td>19693.840039</td>\n      <td>13629.039487</td>\n      <td>423.709291</td>\n      <td>46.342100</td>\n      <td>307.402534</td>\n      <td>NaN</td>\n      <td>987.800076</td>\n      <td>NaN</td>\n      <td>0.47927</td>\n      <td>1.118485</td>\n    </tr>\n    <tr>\n      <th>min</th>\n      <td>5.383304e+06</td>\n      <td>2018.000000</td>\n      <td>0.000000</td>\n      <td>0.000000</td>\n      <td>0.000000</td>\n      <td>0.000000e+00</td>\n      <td>0.000000</td>\n      <td>0.000000</td>\n      <td>0.000000e+00</td>\n      <td>0.000000</td>\n      <td>0.000000</td>\n      <td>0.000000</td>\n      <td>0.000000</td>\n      <td>0.000000</td>\n      <td>92.540000</td>\n      <td>NaN</td>\n      <td>288.380000</td>\n      <td>NaN</td>\n      <td>0.00000</td>\n      <td>2018.000000</td>\n    </tr>\n    <tr>\n      <th>25%</th>\n      <td>9.307748e+06</td>\n      <td>2018.000000</td>\n      <td>1045.625000</td>\n      <td>751.355000</td>\n      <td>3281.320000</td>\n      <td>0.000000e+00</td>\n      <td>694.020000</td>\n      <td>856.270000</td>\n      <td>1.204800e+02</td>\n      <td>3641.102500</td>\n      <td>5935.450000</td>\n      <td>2356.400000</td>\n      <td>0.000000</td>\n      <td>0.000000</td>\n      <td>121.950000</td>\n      <td>NaN</td>\n      <td>384.980000</td>\n      <td>NaN</td>\n      <td>0.00000</td>\n      <td>2018.000000</td>\n    </tr>\n    <tr>\n      <th>50%</th>\n      <td>9.451616e+06</td>\n      <td>2019.000000</td>\n      <td>2059.520000</td>\n      <td>1451.575000</td>\n      <td>6469.520000</td>\n      <td>5.624600e+02</td>\n      <td>1842.450000</td>\n      <td>2109.490000</td>\n      <td>3.144900e+02</td>\n      <td>10097.450000</td>\n      <td>15495.990000</td>\n      <td>4541.600000</td>\n      <td>0.000000</td>\n      <td>0.000000</td>\n      <td>134.710000</td>\n      <td>NaN</td>\n      <td>424.640000</td>\n      <td>NaN</td>\n      <td>0.00000</td>\n      <td>2019.000000</td>\n    </tr>\n    <tr>\n      <th>75%</th>\n      <td>9.662351e+06</td>\n      <td>2021.000000</td>\n      <td>4081.825000</td>\n      <td>2986.697500</td>\n      <td>12816.335000</td>\n      <td>2.477095e+03</td>\n      <td>3826.560000</td>\n      <td>4195.530000</td>\n      <td>8.304150e+02</td>\n      <td>24173.290000</td>\n      <td>29850.790000</td>\n      <td>9317.825000</td>\n      <td>0.000000</td>\n      <td>0.000000</td>\n      <td>601.960000</td>\n      <td>NaN</td>\n      <td>1929.880000</td>\n      <td>NaN</td>\n      <td>0.87000</td>\n      <td>2021.000000</td>\n    </tr>\n    <tr>\n      <th>max</th>\n      <td>9.924912e+06</td>\n      <td>2021.000000</td>\n      <td>98465.200000</td>\n      <td>44715.460000</td>\n      <td>315478.510000</td>\n      <td>1.672576e+06</td>\n      <td>170643.000000</td>\n      <td>359534.000000</td>\n      <td>1.260629e+06</td>\n      <td>105415.090000</td>\n      <td>127026.570000</td>\n      <td>139545.340000</td>\n      <td>11103.300000</td>\n      <td>1166.350000</td>\n      <td>949.130000</td>\n      <td>NaN</td>\n      <td>3042.920000</td>\n      <td>NaN</td>\n      <td>0.88000</td>\n      <td>2021.000000</td>\n    </tr>\n  </tbody>\n</table>\n</div>"
     },
     "metadata": {},
     "execution_count": 3
    }
   ],
   "source": [
    "df_sample = pd.read_csv('./EU_MRV_all_data.csv', index_col=0)\n",
    "df_sample.describe()"
   ]
  },
  {
   "cell_type": "code",
   "execution_count": 4,
   "metadata": {},
   "outputs": [
    {
     "output_type": "execute_result",
     "data": {
      "text/plain": [
       "Index(['IMO Number', 'Name', 'Ship type', 'Reporting Period',\n",
       "       'Technical efficiency', 'Port of Registry', 'Home Port', 'Ice Class',\n",
       "       'DoC issue date', 'DoC expiry date', 'Verifier Number', 'Verifier Name',\n",
       "       'Verifier NAB', 'Verifier Address', 'Verifier City',\n",
       "       'Verifier Accreditation number', 'Verifier Country', 'A', 'B', 'C', 'D',\n",
       "       'Total fuel consumption [m tonnes]',\n",
       "       'Fuel consumptions assigned to On laden [m tonnes]',\n",
       "       'Total CO₂ emissions [m tonnes]',\n",
       "       'CO₂ emissions from all voyages between ports under a MS jurisdiction [m tonnes]',\n",
       "       'CO₂ emissions from all voyages which departed from ports under a MS jurisdiction [m tonnes]',\n",
       "       'CO₂ emissions from all voyages to ports under a MS jurisdiction [m tonnes]',\n",
       "       'CO₂ emissions which occurred within ports under a MS jurisdiction at berth [m tonnes]',\n",
       "       'CO₂ emissions assigned to Passenger transport [m tonnes]',\n",
       "       'CO₂ emissions assigned to Freight transport [m tonnes]',\n",
       "       'CO₂ emissions assigned to On laden [m tonnes]',\n",
       "       'Annual average Fuel consumption per distance [kg / n mile]',\n",
       "       'Annual average Fuel consumption per transport work (mass) [g / m tonnes · n miles]',\n",
       "       'Annual average Fuel consumption per transport work (volume) [g / m³ · n miles]',\n",
       "       'Annual average Fuel consumption per transport work (dwt) [g / dwt carried · n miles]',\n",
       "       'Annual average Fuel consumption per transport work (pax) [g / pax · n miles]',\n",
       "       'Annual average Fuel consumption per transport work (freight) [g / m tonnes · n miles]',\n",
       "       'Annual average CO₂ emissions per distance [kg CO₂ / n mile]',\n",
       "       'Annual average CO₂ emissions per transport work (mass) [g CO₂ / m tonnes · n miles]',\n",
       "       'Annual average CO₂ emissions per transport work (volume) [g CO₂ / m³ · n miles]',\n",
       "       'Annual average CO₂ emissions per transport work (dwt) [g CO₂ / dwt carried · n miles]',\n",
       "       'Annual average CO₂ emissions per transport work (pax) [g CO₂ / pax · n miles]',\n",
       "       'Annual average CO₂ emissions per transport work (freight) [g CO₂ / m tonnes · n miles]',\n",
       "       'Through ice [n miles]', 'Total time spent at sea through ice [hours]',\n",
       "       'Fuel consumption per distance on laden voyages [kg / n mile]',\n",
       "       'Fuel consumption per transport work (mass) on laden voyages [g / m tonnes · n miles]',\n",
       "       'Fuel consumption per transport work (volume) on laden voyages [g / m³ · n miles]',\n",
       "       'Fuel consumption per transport work (dwt) on laden voyages [g / dwt carried · n miles]',\n",
       "       'Fuel consumption per transport work (pax) on laden voyages [g / pax · n miles]',\n",
       "       'Fuel consumption per transport work (freight) on laden voyages [g / m tonnes · n miles]',\n",
       "       'CO₂ emissions per distance on laden voyages [kg CO₂ / n mile]',\n",
       "       'CO₂ emissions per transport work (mass) on laden voyages [g CO₂ / m tonnes · n miles]',\n",
       "       'CO₂ emissions per transport work (volume) on laden voyages [g CO₂ / m³ · n miles]',\n",
       "       'CO₂ emissions per transport work (dwt) on laden voyages [g CO₂ / dwt carried · n miles]',\n",
       "       'CO₂ emissions per transport work (pax) on laden voyages [g CO₂ / pax · n miles]',\n",
       "       'CO₂ emissions per transport work (freight) on laden voyages [g CO₂ / m tonnes · n miles]',\n",
       "       'Additional information to facilitate the understanding of the reported average operational energy efficiency indicators',\n",
       "       'Average density of the cargo transported [m tonnes / m³]', 'year'],\n",
       "      dtype='object')"
      ]
     },
     "metadata": {},
     "execution_count": 4
    }
   ],
   "source": [
    "df_sample.columns"
   ]
  },
  {
   "cell_type": "code",
   "execution_count": 5,
   "metadata": {},
   "outputs": [],
   "source": [
    "def only_keep_floats_in_df(df, col_name):\n",
    "    copy_df = df.copy()\n",
    "    return copy_df[copy_df[col_name].apply(lambda x: isinstance(x, float))]\n",
    "    "
   ]
  },
  {
   "cell_type": "code",
   "execution_count": 6,
   "metadata": {},
   "outputs": [],
   "source": [
    "ship_dist = df_sample[\"Ship type\"].value_counts().rename_axis('Ship type').reset_index(name='Ship count')"
   ]
  },
  {
   "cell_type": "code",
   "execution_count": 15,
   "metadata": {},
   "outputs": [
    {
     "output_type": "display_data",
     "data": {
      "application/vnd.plotly.v1+json": {
       "data": [
        {
         "domain": {
          "x": [
           0,
           1
          ],
          "y": [
           0,
           1
          ]
         },
         "hovertemplate": "Ship type=%{label}<br>Ship count=%{value}<extra></extra>",
         "labels": [
          "Bulk carrier",
          "Container ship",
          "Oil tanker",
          "General cargo ship",
          "Chemical tanker",
          "Vehicle carrier",
          "Ro-pax ship",
          "Ro-ro ship",
          "Gas carrier",
          "LNG carrier",
          "Refrigerated cargo carrier",
          "Passenger ship",
          "Other ship types",
          "Container/ro-ro cargo ship",
          "Combination carrier"
         ],
         "legendgroup": "",
         "name": "",
         "showlegend": true,
         "values": [
          2955,
          1554,
          1489,
          1102,
          1033,
          392,
          372,
          255,
          207,
          167,
          141,
          137,
          111,
          75,
          10
         ],
         "type": "pie",
         "hoverinfo": "label+percent",
         "textinfo": "value"
        }
       ],
       "layout": {
        "template": {
         "data": {
          "histogram2dcontour": [
           {
            "type": "histogram2dcontour",
            "colorbar": {
             "outlinewidth": 0,
             "ticks": ""
            },
            "colorscale": [
             [
              0,
              "#0d0887"
             ],
             [
              0.1111111111111111,
              "#46039f"
             ],
             [
              0.2222222222222222,
              "#7201a8"
             ],
             [
              0.3333333333333333,
              "#9c179e"
             ],
             [
              0.4444444444444444,
              "#bd3786"
             ],
             [
              0.5555555555555556,
              "#d8576b"
             ],
             [
              0.6666666666666666,
              "#ed7953"
             ],
             [
              0.7777777777777778,
              "#fb9f3a"
             ],
             [
              0.8888888888888888,
              "#fdca26"
             ],
             [
              1,
              "#f0f921"
             ]
            ]
           }
          ],
          "choropleth": [
           {
            "type": "choropleth",
            "colorbar": {
             "outlinewidth": 0,
             "ticks": ""
            }
           }
          ],
          "histogram2d": [
           {
            "type": "histogram2d",
            "colorbar": {
             "outlinewidth": 0,
             "ticks": ""
            },
            "colorscale": [
             [
              0,
              "#0d0887"
             ],
             [
              0.1111111111111111,
              "#46039f"
             ],
             [
              0.2222222222222222,
              "#7201a8"
             ],
             [
              0.3333333333333333,
              "#9c179e"
             ],
             [
              0.4444444444444444,
              "#bd3786"
             ],
             [
              0.5555555555555556,
              "#d8576b"
             ],
             [
              0.6666666666666666,
              "#ed7953"
             ],
             [
              0.7777777777777778,
              "#fb9f3a"
             ],
             [
              0.8888888888888888,
              "#fdca26"
             ],
             [
              1,
              "#f0f921"
             ]
            ]
           }
          ],
          "heatmap": [
           {
            "type": "heatmap",
            "colorbar": {
             "outlinewidth": 0,
             "ticks": ""
            },
            "colorscale": [
             [
              0,
              "#0d0887"
             ],
             [
              0.1111111111111111,
              "#46039f"
             ],
             [
              0.2222222222222222,
              "#7201a8"
             ],
             [
              0.3333333333333333,
              "#9c179e"
             ],
             [
              0.4444444444444444,
              "#bd3786"
             ],
             [
              0.5555555555555556,
              "#d8576b"
             ],
             [
              0.6666666666666666,
              "#ed7953"
             ],
             [
              0.7777777777777778,
              "#fb9f3a"
             ],
             [
              0.8888888888888888,
              "#fdca26"
             ],
             [
              1,
              "#f0f921"
             ]
            ]
           }
          ],
          "heatmapgl": [
           {
            "type": "heatmapgl",
            "colorbar": {
             "outlinewidth": 0,
             "ticks": ""
            },
            "colorscale": [
             [
              0,
              "#0d0887"
             ],
             [
              0.1111111111111111,
              "#46039f"
             ],
             [
              0.2222222222222222,
              "#7201a8"
             ],
             [
              0.3333333333333333,
              "#9c179e"
             ],
             [
              0.4444444444444444,
              "#bd3786"
             ],
             [
              0.5555555555555556,
              "#d8576b"
             ],
             [
              0.6666666666666666,
              "#ed7953"
             ],
             [
              0.7777777777777778,
              "#fb9f3a"
             ],
             [
              0.8888888888888888,
              "#fdca26"
             ],
             [
              1,
              "#f0f921"
             ]
            ]
           }
          ],
          "contourcarpet": [
           {
            "type": "contourcarpet",
            "colorbar": {
             "outlinewidth": 0,
             "ticks": ""
            }
           }
          ],
          "contour": [
           {
            "type": "contour",
            "colorbar": {
             "outlinewidth": 0,
             "ticks": ""
            },
            "colorscale": [
             [
              0,
              "#0d0887"
             ],
             [
              0.1111111111111111,
              "#46039f"
             ],
             [
              0.2222222222222222,
              "#7201a8"
             ],
             [
              0.3333333333333333,
              "#9c179e"
             ],
             [
              0.4444444444444444,
              "#bd3786"
             ],
             [
              0.5555555555555556,
              "#d8576b"
             ],
             [
              0.6666666666666666,
              "#ed7953"
             ],
             [
              0.7777777777777778,
              "#fb9f3a"
             ],
             [
              0.8888888888888888,
              "#fdca26"
             ],
             [
              1,
              "#f0f921"
             ]
            ]
           }
          ],
          "surface": [
           {
            "type": "surface",
            "colorbar": {
             "outlinewidth": 0,
             "ticks": ""
            },
            "colorscale": [
             [
              0,
              "#0d0887"
             ],
             [
              0.1111111111111111,
              "#46039f"
             ],
             [
              0.2222222222222222,
              "#7201a8"
             ],
             [
              0.3333333333333333,
              "#9c179e"
             ],
             [
              0.4444444444444444,
              "#bd3786"
             ],
             [
              0.5555555555555556,
              "#d8576b"
             ],
             [
              0.6666666666666666,
              "#ed7953"
             ],
             [
              0.7777777777777778,
              "#fb9f3a"
             ],
             [
              0.8888888888888888,
              "#fdca26"
             ],
             [
              1,
              "#f0f921"
             ]
            ]
           }
          ],
          "mesh3d": [
           {
            "type": "mesh3d",
            "colorbar": {
             "outlinewidth": 0,
             "ticks": ""
            }
           }
          ],
          "scatter": [
           {
            "fillpattern": {
             "fillmode": "overlay",
             "size": 10,
             "solidity": 0.2
            },
            "type": "scatter"
           }
          ],
          "parcoords": [
           {
            "type": "parcoords",
            "line": {
             "colorbar": {
              "outlinewidth": 0,
              "ticks": ""
             }
            }
           }
          ],
          "scatterpolargl": [
           {
            "type": "scatterpolargl",
            "marker": {
             "colorbar": {
              "outlinewidth": 0,
              "ticks": ""
             }
            }
           }
          ],
          "bar": [
           {
            "error_x": {
             "color": "#2a3f5f"
            },
            "error_y": {
             "color": "#2a3f5f"
            },
            "marker": {
             "line": {
              "color": "#E5ECF6",
              "width": 0.5
             },
             "pattern": {
              "fillmode": "overlay",
              "size": 10,
              "solidity": 0.2
             }
            },
            "type": "bar"
           }
          ],
          "scattergeo": [
           {
            "type": "scattergeo",
            "marker": {
             "colorbar": {
              "outlinewidth": 0,
              "ticks": ""
             }
            }
           }
          ],
          "scatterpolar": [
           {
            "type": "scatterpolar",
            "marker": {
             "colorbar": {
              "outlinewidth": 0,
              "ticks": ""
             }
            }
           }
          ],
          "histogram": [
           {
            "marker": {
             "pattern": {
              "fillmode": "overlay",
              "size": 10,
              "solidity": 0.2
             }
            },
            "type": "histogram"
           }
          ],
          "scattergl": [
           {
            "type": "scattergl",
            "marker": {
             "colorbar": {
              "outlinewidth": 0,
              "ticks": ""
             }
            }
           }
          ],
          "scatter3d": [
           {
            "type": "scatter3d",
            "line": {
             "colorbar": {
              "outlinewidth": 0,
              "ticks": ""
             }
            },
            "marker": {
             "colorbar": {
              "outlinewidth": 0,
              "ticks": ""
             }
            }
           }
          ],
          "scattermapbox": [
           {
            "type": "scattermapbox",
            "marker": {
             "colorbar": {
              "outlinewidth": 0,
              "ticks": ""
             }
            }
           }
          ],
          "scatterternary": [
           {
            "type": "scatterternary",
            "marker": {
             "colorbar": {
              "outlinewidth": 0,
              "ticks": ""
             }
            }
           }
          ],
          "scattercarpet": [
           {
            "type": "scattercarpet",
            "marker": {
             "colorbar": {
              "outlinewidth": 0,
              "ticks": ""
             }
            }
           }
          ],
          "carpet": [
           {
            "aaxis": {
             "endlinecolor": "#2a3f5f",
             "gridcolor": "white",
             "linecolor": "white",
             "minorgridcolor": "white",
             "startlinecolor": "#2a3f5f"
            },
            "baxis": {
             "endlinecolor": "#2a3f5f",
             "gridcolor": "white",
             "linecolor": "white",
             "minorgridcolor": "white",
             "startlinecolor": "#2a3f5f"
            },
            "type": "carpet"
           }
          ],
          "table": [
           {
            "cells": {
             "fill": {
              "color": "#EBF0F8"
             },
             "line": {
              "color": "white"
             }
            },
            "header": {
             "fill": {
              "color": "#C8D4E3"
             },
             "line": {
              "color": "white"
             }
            },
            "type": "table"
           }
          ],
          "barpolar": [
           {
            "marker": {
             "line": {
              "color": "#E5ECF6",
              "width": 0.5
             },
             "pattern": {
              "fillmode": "overlay",
              "size": 10,
              "solidity": 0.2
             }
            },
            "type": "barpolar"
           }
          ],
          "pie": [
           {
            "automargin": true,
            "type": "pie"
           }
          ]
         },
         "layout": {
          "autotypenumbers": "strict",
          "colorway": [
           "#636efa",
           "#EF553B",
           "#00cc96",
           "#ab63fa",
           "#FFA15A",
           "#19d3f3",
           "#FF6692",
           "#B6E880",
           "#FF97FF",
           "#FECB52"
          ],
          "font": {
           "color": "#2a3f5f"
          },
          "hovermode": "closest",
          "hoverlabel": {
           "align": "left"
          },
          "paper_bgcolor": "white",
          "plot_bgcolor": "#E5ECF6",
          "polar": {
           "bgcolor": "#E5ECF6",
           "angularaxis": {
            "gridcolor": "white",
            "linecolor": "white",
            "ticks": ""
           },
           "radialaxis": {
            "gridcolor": "white",
            "linecolor": "white",
            "ticks": ""
           }
          },
          "ternary": {
           "bgcolor": "#E5ECF6",
           "aaxis": {
            "gridcolor": "white",
            "linecolor": "white",
            "ticks": ""
           },
           "baxis": {
            "gridcolor": "white",
            "linecolor": "white",
            "ticks": ""
           },
           "caxis": {
            "gridcolor": "white",
            "linecolor": "white",
            "ticks": ""
           }
          },
          "coloraxis": {
           "colorbar": {
            "outlinewidth": 0,
            "ticks": ""
           }
          },
          "colorscale": {
           "sequential": [
            [
             0,
             "#0d0887"
            ],
            [
             0.1111111111111111,
             "#46039f"
            ],
            [
             0.2222222222222222,
             "#7201a8"
            ],
            [
             0.3333333333333333,
             "#9c179e"
            ],
            [
             0.4444444444444444,
             "#bd3786"
            ],
            [
             0.5555555555555556,
             "#d8576b"
            ],
            [
             0.6666666666666666,
             "#ed7953"
            ],
            [
             0.7777777777777778,
             "#fb9f3a"
            ],
            [
             0.8888888888888888,
             "#fdca26"
            ],
            [
             1,
             "#f0f921"
            ]
           ],
           "sequentialminus": [
            [
             0,
             "#0d0887"
            ],
            [
             0.1111111111111111,
             "#46039f"
            ],
            [
             0.2222222222222222,
             "#7201a8"
            ],
            [
             0.3333333333333333,
             "#9c179e"
            ],
            [
             0.4444444444444444,
             "#bd3786"
            ],
            [
             0.5555555555555556,
             "#d8576b"
            ],
            [
             0.6666666666666666,
             "#ed7953"
            ],
            [
             0.7777777777777778,
             "#fb9f3a"
            ],
            [
             0.8888888888888888,
             "#fdca26"
            ],
            [
             1,
             "#f0f921"
            ]
           ],
           "diverging": [
            [
             0,
             "#8e0152"
            ],
            [
             0.1,
             "#c51b7d"
            ],
            [
             0.2,
             "#de77ae"
            ],
            [
             0.3,
             "#f1b6da"
            ],
            [
             0.4,
             "#fde0ef"
            ],
            [
             0.5,
             "#f7f7f7"
            ],
            [
             0.6,
             "#e6f5d0"
            ],
            [
             0.7,
             "#b8e186"
            ],
            [
             0.8,
             "#7fbc41"
            ],
            [
             0.9,
             "#4d9221"
            ],
            [
             1,
             "#276419"
            ]
           ]
          },
          "xaxis": {
           "gridcolor": "white",
           "linecolor": "white",
           "ticks": "",
           "title": {
            "standoff": 15
           },
           "zerolinecolor": "white",
           "automargin": true,
           "zerolinewidth": 2
          },
          "yaxis": {
           "gridcolor": "white",
           "linecolor": "white",
           "ticks": "",
           "title": {
            "standoff": 15
           },
           "zerolinecolor": "white",
           "automargin": true,
           "zerolinewidth": 2
          },
          "scene": {
           "xaxis": {
            "backgroundcolor": "#E5ECF6",
            "gridcolor": "white",
            "linecolor": "white",
            "showbackground": true,
            "ticks": "",
            "zerolinecolor": "white",
            "gridwidth": 2
           },
           "yaxis": {
            "backgroundcolor": "#E5ECF6",
            "gridcolor": "white",
            "linecolor": "white",
            "showbackground": true,
            "ticks": "",
            "zerolinecolor": "white",
            "gridwidth": 2
           },
           "zaxis": {
            "backgroundcolor": "#E5ECF6",
            "gridcolor": "white",
            "linecolor": "white",
            "showbackground": true,
            "ticks": "",
            "zerolinecolor": "white",
            "gridwidth": 2
           }
          },
          "shapedefaults": {
           "line": {
            "color": "#2a3f5f"
           }
          },
          "annotationdefaults": {
           "arrowcolor": "#2a3f5f",
           "arrowhead": 0,
           "arrowwidth": 1
          },
          "geo": {
           "bgcolor": "white",
           "landcolor": "#E5ECF6",
           "subunitcolor": "white",
           "showland": true,
           "showlakes": true,
           "lakecolor": "white"
          },
          "title": {
           "x": 0.05
          },
          "mapbox": {
           "style": "light"
          }
         }
        },
        "legend": {
         "tracegroupgap": 0
        },
        "title": {
         "text": "Ship type distribution"
        }
       },
       "config": {
        "plotlyServerURL": "https://plot.ly"
       }
      }
     },
     "metadata": {}
    }
   ],
   "source": [
    "import plotly.express as px\n",
    "px.pie(ship_dist)\n",
    "fig = px.pie(ship_dist, values=\"Ship count\", names=\"Ship type\", title='Ship type distribution')\n",
    "fig.update_traces(hoverinfo='label+percent', textinfo='value')\n",
    "fig.show()"
   ]
  },
  {
   "cell_type": "code",
   "execution_count": null,
   "metadata": {},
   "outputs": [],
   "source": []
  }
 ]
}